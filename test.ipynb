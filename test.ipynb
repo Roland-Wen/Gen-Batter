{
 "cells": [
  {
   "cell_type": "code",
   "execution_count": null,
   "id": "ee97a0fd-b135-4c54-81d6-a5f29962ff24",
   "metadata": {},
   "outputs": [],
   "source": []
  }
 ],
 "metadata": {
  "kernelspec": {
   "display_name": "285_proj_kernel",
   "language": "python",
   "name": "285_proj_kernel"
  },
  "language_info": {
   "codemirror_mode": {
    "name": "ipython",
    "version": 3
   },
   "file_extension": ".py",
   "mimetype": "text/x-python",
   "name": "python",
   "nbconvert_exporter": "python",
   "pygments_lexer": "ipython3",
   "version": "3.11.9"
  }
 },
 "nbformat": 4,
 "nbformat_minor": 5
}
